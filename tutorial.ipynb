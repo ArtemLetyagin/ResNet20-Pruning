{
 "cells": [
  {
   "cell_type": "code",
   "execution_count": 4,
   "id": "10bf401d",
   "metadata": {},
   "outputs": [],
   "source": [
    "import torch\n",
    "import torchvision\n",
    "import torchvision.transforms as transforms\n",
    "from tqdm import tqdm\n",
    "import time\n",
    "\n",
    "import warnings\n",
    "warnings.filterwarnings(\"ignore\")"
   ]
  },
  {
   "cell_type": "markdown",
   "id": "2615e287",
   "metadata": {},
   "source": [
    "# CIFAR10"
   ]
  },
  {
   "cell_type": "code",
   "execution_count": 5,
   "id": "23b57d00",
   "metadata": {},
   "outputs": [],
   "source": [
    "batch_size = 50\n",
    "normalize = transforms.Normalize(mean=[0.485, 0.456, 0.406],\n",
    "                                     std=[0.229, 0.224, 0.225])\n",
    "transform = transforms.Compose([\n",
    "            transforms.RandomHorizontalFlip(),\n",
    "            transforms.RandomCrop(32, 4),\n",
    "            transforms.ToTensor(),\n",
    "            normalize,\n",
    "        ])"
   ]
  },
  {
   "cell_type": "code",
   "execution_count": 16,
   "id": "5327fc9d",
   "metadata": {},
   "outputs": [
    {
     "name": "stdout",
     "output_type": "stream",
     "text": [
      "Files already downloaded and verified\n"
     ]
    }
   ],
   "source": [
    "training_dataset = torchvision.datasets.CIFAR10(root='./data', train=True, transform=transform, download=True)\n",
    "test_dataset = torchvision.datasets.CIFAR10(root='./data', train=False, transform=transform)\n",
    "\n",
    "train_loader = torch.utils.data.DataLoader(dataset=training_dataset, batch_size=batch_size, shuffle=True)\n",
    "test_loader = torch.utils.data.DataLoader(dataset=test_dataset, batch_size=batch_size, shuffle=False)"
   ]
  },
  {
   "cell_type": "code",
   "execution_count": 17,
   "id": "e6fed382",
   "metadata": {},
   "outputs": [
    {
     "name": "stdout",
     "output_type": "stream",
     "text": [
      "Images shape: torch.Size([50, 3, 32, 32])\n",
      "Labels shape: torch.Size([50])\n"
     ]
    }
   ],
   "source": [
    "batch = next(iter(train_loader))\n",
    "print(f'Images shape: {batch[0].shape}')\n",
    "print(f'Labels shape: {batch[1].shape}')"
   ]
  },
  {
   "cell_type": "code",
   "execution_count": 18,
   "id": "b15f0db9",
   "metadata": {},
   "outputs": [],
   "source": [
    "#testing\n",
    "def test_model(model, test_loader):\n",
    "    t = time.time()\n",
    "    batch_size = 50\n",
    "    with torch.no_grad():\n",
    "        n_correct = 0\n",
    "        n_samples = 0\n",
    "        for images, labels in tqdm(test_loader):\n",
    "            images = images\n",
    "            labels = labels\n",
    "            outputs = model(images).view(batch_size,10)\n",
    "\n",
    "            _, predictions = torch.max(outputs, 1)\n",
    "            n_samples += labels.shape[0]\n",
    "            n_correct += (predictions==labels).sum().item()\n",
    "\n",
    "    acc = 100.0*n_correct/n_samples\n",
    "    print(f'accuracy: {acc}')\n",
    "    print(f'testing time: {time.time()-t:.2f}.sec')"
   ]
  },
  {
   "cell_type": "code",
   "execution_count": 19,
   "id": "7354831c",
   "metadata": {},
   "outputs": [],
   "source": [
    "def get_n_params(model):\n",
    "    pp=0\n",
    "    for p in list(model.parameters()):\n",
    "        nn=1\n",
    "        for s in list(p.size()):\n",
    "            nn = nn*s\n",
    "        pp += nn\n",
    "    print(f'number of model params: {pp}')\n",
    "    return pp"
   ]
  },
  {
   "cell_type": "markdown",
   "id": "40007936",
   "metadata": {},
   "source": [
    "# ResNet20"
   ]
  },
  {
   "cell_type": "code",
   "execution_count": 20,
   "id": "05ced214",
   "metadata": {},
   "outputs": [
    {
     "data": {
      "text/plain": [
       "<All keys matched successfully>"
      ]
     },
     "execution_count": 20,
     "metadata": {},
     "output_type": "execute_result"
    }
   ],
   "source": [
    "from ResNet import ResNet20\n",
    "model = ResNet20()\n",
    "model.load_state_dict(torch.load('model.pth', map_location='cpu'))"
   ]
  },
  {
   "cell_type": "code",
   "execution_count": 21,
   "id": "34f9ff1e",
   "metadata": {},
   "outputs": [
    {
     "name": "stderr",
     "output_type": "stream",
     "text": [
      "100%|████████████████████████████████████████████████████████████████████████████████| 200/200 [00:23<00:00,  8.63it/s]"
     ]
    },
    {
     "name": "stdout",
     "output_type": "stream",
     "text": [
      "accuracy: 85.81\n",
      "testing time: 23.17.sec\n"
     ]
    },
    {
     "name": "stderr",
     "output_type": "stream",
     "text": [
      "\n"
     ]
    }
   ],
   "source": [
    "test_model(model, test_loader)"
   ]
  },
  {
   "cell_type": "markdown",
   "id": "1c99e0de",
   "metadata": {},
   "source": [
    "# First method"
   ]
  },
  {
   "cell_type": "code",
   "execution_count": 22,
   "id": "c2a97be1",
   "metadata": {},
   "outputs": [],
   "source": [
    "from first import FirstPruning"
   ]
  },
  {
   "cell_type": "code",
   "execution_count": 23,
   "id": "b7cd1599",
   "metadata": {},
   "outputs": [],
   "source": [
    "compression_ratio = 0.8\n",
    "first_model = FirstPruning(model, compression_ratio)"
   ]
  },
  {
   "cell_type": "code",
   "execution_count": 13,
   "id": "746abe43",
   "metadata": {},
   "outputs": [
    {
     "name": "stderr",
     "output_type": "stream",
     "text": [
      "100%|████████████████████████████████████████████████████████████████████████████████| 200/200 [01:08<00:00,  2.91it/s]"
     ]
    },
    {
     "name": "stdout",
     "output_type": "stream",
     "text": [
      "accuracy: 10.64\n",
      "testing time: 68.65.sec\n"
     ]
    },
    {
     "name": "stderr",
     "output_type": "stream",
     "text": [
      "\n"
     ]
    }
   ],
   "source": [
    "TestModel(first_model, test_loader)"
   ]
  },
  {
   "cell_type": "markdown",
   "id": "8f841fa4",
   "metadata": {},
   "source": [
    "# Second method"
   ]
  },
  {
   "cell_type": "code",
   "execution_count": 24,
   "id": "4376014a",
   "metadata": {},
   "outputs": [],
   "source": [
    "from second import SecondPruning"
   ]
  },
  {
   "cell_type": "code",
   "execution_count": 25,
   "id": "752f91c4",
   "metadata": {},
   "outputs": [],
   "source": [
    "compression_ratio = 0.8\n",
    "second_model = SecondPruning(model, compression_ratio)"
   ]
  },
  {
   "cell_type": "code",
   "execution_count": 27,
   "id": "17148063",
   "metadata": {},
   "outputs": [
    {
     "name": "stderr",
     "output_type": "stream",
     "text": [
      "100%|████████████████████████████████████████████████████████████████████████████████| 200/200 [00:15<00:00, 13.24it/s]"
     ]
    },
    {
     "name": "stdout",
     "output_type": "stream",
     "text": [
      "accuracy: 13.53\n",
      "testing time: 15.11.sec\n"
     ]
    },
    {
     "name": "stderr",
     "output_type": "stream",
     "text": [
      "\n"
     ]
    }
   ],
   "source": [
    "test_model(second_model, test_loader)"
   ]
  },
  {
   "cell_type": "code",
   "execution_count": null,
   "id": "b0865ba2",
   "metadata": {},
   "outputs": [],
   "source": []
  }
 ],
 "metadata": {
  "kernelspec": {
   "display_name": "Python 3 (ipykernel)",
   "language": "python",
   "name": "python3"
  },
  "language_info": {
   "codemirror_mode": {
    "name": "ipython",
    "version": 3
   },
   "file_extension": ".py",
   "mimetype": "text/x-python",
   "name": "python",
   "nbconvert_exporter": "python",
   "pygments_lexer": "ipython3",
   "version": "3.9.0"
  }
 },
 "nbformat": 4,
 "nbformat_minor": 5
}
